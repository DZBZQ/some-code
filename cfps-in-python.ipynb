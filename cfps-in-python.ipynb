{
 "cells": [
  {
   "cell_type": "code",
   "execution_count": 2,
   "metadata": {},
   "outputs": [],
   "source": [
    "import pandas as pd\n",
    "import copy"
   ]
  },
  {
   "cell_type": "code",
   "execution_count": 14,
   "metadata": {},
   "outputs": [],
   "source": [
    "path_list = []\n",
    "for i in range(10,21,2):\n",
    "    path_list.append(r\"D:\\cfpsdata\\cfps\"+\"20%s\"%i+\"家庭经济.dta\")\n",
    "    path_list.append(r\"D:\\cfpsdata\\cfps\"+\"20%s\"%i+\"家庭关系.dta\")\n",
    "    if i<17:\n",
    "        path_list.append(r\"D:\\cfpsdata\\cfps\"+\"20%s\"%i+\"成人库.dta\")\n",
    "    else:\n",
    "        path_list.append(r\"D:\\cfpsdata\\cfps\"+\"20%s\"%i+\"个人库.dta\")\n",
    "for j in path_list:\n",
    "    a = pd.read_stata(j,convert_categoricals=False)\n",
    "        #由于CFPS的value labels不唯一，因此convert_categoricals=False\n",
    "    a_1 = copy.copy(a)\n",
    "        #深拷贝一份，方便后面做填充\n",
    "    with pd.io.stata.StataReader(j) as reader:\n",
    "        lb = reader.variable_labels()\n",
    "            #读取变量标签\n",
    "        vl = reader.value_labels()\n",
    "            #读取值标签\n",
    "    for k in vl.keys():\n",
    "        a[k] = a[k].map(vl[k],na_action='ignore')\n",
    "            #将值标签字典映射到a，但是部分正常数据会被替换成NaN\n",
    "    for k in a.columns:\n",
    "        a[k].fillna(value=a_1[k], inplace=True)\n",
    "            #用深拷贝的填充a的NaN        \n",
    "    b = pd.DataFrame(dict(lb = lb)).T\n",
    "        #变量标签导出\n",
    "    c = pd.concat([a,b])\n",
    "        #变量标签合并\n",
    "    last_row = pd.DataFrame(c.iloc[-1]).T\n",
    "    d = pd.concat([last_row,a])\n",
    "    d.to_csv(j[12:-4]+\".csv\",index=False,encoding='utf-8-sig')\n",
    "        #导出为csv\n"
   ]
  },
  {
   "cell_type": "code",
   "execution_count": null,
   "metadata": {},
   "outputs": [],
   "source": []
  }
 ],
 "metadata": {
  "kernelspec": {
   "display_name": "mi_env",
   "language": "python",
   "name": "python3"
  },
  "language_info": {
   "codemirror_mode": {
    "name": "ipython",
    "version": 3
   },
   "file_extension": ".py",
   "mimetype": "text/x-python",
   "name": "python",
   "nbconvert_exporter": "python",
   "pygments_lexer": "ipython3",
   "version": "3.11.3"
  },
  "orig_nbformat": 4
 },
 "nbformat": 4,
 "nbformat_minor": 2
}
